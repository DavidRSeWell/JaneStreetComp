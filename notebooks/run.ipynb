{
 "cells": [
  {
   "cell_type": "markdown",
   "metadata": {},
   "source": [
    "# Notebook for stepping through training"
   ]
  },
  {
   "cell_type": "code",
   "execution_count": 14,
   "metadata": {},
   "outputs": [],
   "source": [
    "import os\n",
    "import matplotlib.pyplot as plt\n",
    "import numpy as np\n",
    "import pandas as pd\n",
    "import time\n"
   ]
  },
  {
   "cell_type": "code",
   "execution_count": 4,
   "metadata": {},
   "outputs": [],
   "source": [
    "DATA_DIR = \"/Users/davidsewell/MLData/JaneStreet\"\n",
    "PROJ_DIR = \"/Users/davidsewell/Github/JaneStreetComp\"\n",
    "os.chdir(PROJ_DIR)"
   ]
  },
  {
   "cell_type": "code",
   "execution_count": 5,
   "metadata": {},
   "outputs": [],
   "source": [
    "from src.bandits import SimpleKMeansBandit\n",
    "from src.trainer import BanditTrainer, TrainEnv\n",
    "from src.data import JaneData"
   ]
  },
  {
   "cell_type": "markdown",
   "metadata": {},
   "source": [
    "## Prepare the data"
   ]
  },
  {
   "cell_type": "code",
   "execution_count": 29,
   "metadata": {},
   "outputs": [],
   "source": [
    "TOP_N = 10 # PCA Components to keep\n",
    "K = 20 # Number of clusters\n",
    "THRESHOLD = 0 # threshold for bandit agent. States with percieved UCB value > threshold get \"pulled\"\n",
    "EPS = 0.1 # Epsilon for epsilon greedy"
   ]
  },
  {
   "cell_type": "code",
   "execution_count": 10,
   "metadata": {},
   "outputs": [
    {
     "name": "stdout",
     "output_type": "stream",
     "text": [
      "Done Loading Jane Data\n",
      "Using seed data None\n",
      "Running PCA\n",
      "Data shape (90000, 130)\n"
     ]
    }
   ],
   "source": [
    "jane_data = JaneData(DATA_DIR)\n",
    "\n",
    "n = len(jane_data.train_df)\n",
    "\n",
    "n_train = int(n*0.9)\n",
    "\n",
    "train , test = jane_data.train_df.iloc[:n_train,:] , jane_data.train_df.iloc[n_train:,:]\n",
    "\n",
    "train_env = TrainEnv(train)\n",
    "\n",
    "test_env = TrainEnv(test)\n",
    "\n",
    "train_features = jane_data.extract_features(train)\n",
    "\n",
    "pca = jane_data.run_pca(train_features,TOP_N)\n",
    "\n",
    "X = jane_data.create_transformed(pca,train_features,TOP_N)\n"
   ]
  },
  {
   "cell_type": "code",
   "execution_count": 30,
   "metadata": {},
   "outputs": [],
   "source": [
    "kmeans = jane_data.run_kmean(K,X)"
   ]
  },
  {
   "cell_type": "code",
   "execution_count": 31,
   "metadata": {},
   "outputs": [
    {
     "data": {
      "image/png": "[encoded data removed]",
      "text/plain": [
       "<Figure size 432x216 with 1 Axes>"
      ]
     },
     "metadata": {
      "needs_background": "light"
     },
     "output_type": "display_data"
    }
   ],
   "source": [
    "jane_data.display_histogram(kmeans.labels_,n_bins=K)"
   ]
  },
  {
   "cell_type": "code",
   "execution_count": 32,
   "metadata": {},
   "outputs": [
    {
     "name": "stderr",
     "output_type": "stream",
     "text": [
      "<ipython-input-32-c604e3aafcde>:1: SettingWithCopyWarning: \n",
      "A value is trying to be set on a copy of a slice from a DataFrame.\n",
      "Try using .loc[row_indexer,col_indexer] = value instead\n",
      "\n",
      "See the caveats in the documentation: https://pandas.pydata.org/pandas-docs/stable/user_guide/indexing.html#returning-a-view-versus-a-copy\n",
      "  train[\"labels\"] = kmeans.labels_\n"
     ]
    }
   ],
   "source": [
    "train[\"labels\"] = kmeans.labels_\n",
    "\n",
    "def calc_return(x):\n",
    "    return np.dot(x[\"weight\"],x[\"resp\"])\n",
    "    \n",
    "always_c = train.groupby(\"labels\").apply(lambda x: calc_return(x))\n",
    "oracle_c = train[train[\"resp\"] > 0].groupby(\"labels\").apply(lambda x: calc_return(x))\n",
    "    "
   ]
  },
  {
   "cell_type": "code",
   "execution_count": 33,
   "metadata": {},
   "outputs": [
    {
     "data": {
      "text/plain": [
       "<AxesSubplot:xlabel='labels'>"
      ]
     },
     "execution_count": 33,
     "metadata": {},
     "output_type": "execute_result"
    },
    {
     "data": {
      "image/png": "[encoded data removed]",
      "text/plain": [
       "<Figure size 432x288 with 1 Axes>"
      ]
     },
     "metadata": {
      "needs_background": "light"
     },
     "output_type": "display_data"
    }
   ],
   "source": [
    "always_c.plot(kind=\"bar\")"
   ]
  },
  {
   "cell_type": "code",
   "execution_count": 34,
   "metadata": {},
   "outputs": [
    {
     "data": {
      "text/plain": [
       "<AxesSubplot:xlabel='labels'>"
      ]
     },
     "execution_count": 34,
     "metadata": {},
     "output_type": "execute_result"
    },
    {
     "data": {
      "image/png": "[encoded data removed]",
      "text/plain": [
       "<Figure size 432x288 with 1 Axes>"
      ]
     },
     "metadata": {
      "needs_background": "light"
     },
     "output_type": "display_data"
    }
   ],
   "source": [
    "oracle_c.plot(kind=\"bar\")"
   ]
  },
  {
   "cell_type": "code",
   "execution_count": null,
   "metadata": {},
   "outputs": [],
   "source": [
    "def ground_truth_cluster_values(train_data,labels):\n",
    "    \"\"\"\n",
    "    Return cumulative and avg value of each cluster\n",
    "    assuming we acted perfectly. i.e always take trade when result will > 0\n",
    "    \"\"\"\n",
    "    train_data[\"labels\"] = labels\n",
    "    \n",
    "    train_data[\"\"]\n",
    "    \n",
    "    "
   ]
  },
  {
   "cell_type": "code",
   "execution_count": null,
   "metadata": {},
   "outputs": [],
   "source": [
    "jane_data.display_histogram(kmeans.labels_,n_bins=K)\n",
    "\n",
    "def transform(x):\n",
    "    features = [f\"feature_{i}\" for i in range(130)]\n",
    "    x = x.fillna(0)\n",
    "    x = x[features].to_numpy().reshape((1,len(features)))\n",
    "    x = pca.transform(x)\n",
    "    return x\n",
    "\n",
    "agent = SimpleKMeansBandit(K,kmeans,transform,threshold=THRESHOLD,eps=EPS)\n",
    "\n",
    "trainer = BanditTrainer(agent,test_env,train_env)\n",
    "\n",
    "train_r , test_r = trainer.train(iters=10)\n",
    "x_axis = [x for x in range(len(train_r))]\n",
    "plt.plot(x_axis,train_r,label=\"train\")\n",
    "plt.legend()\n",
    "plt.show()\n",
    "\n",
    "plt.plot(x_axis, test_r, label=\"test\")\n",
    "plt.legend()\n",
    "plt.show()"
   ]
  }
 ],
 "metadata": {
  "kernelspec": {
   "display_name": "Python 3",
   "language": "python",
   "name": "python3"
  },
  "language_info": {
   "codemirror_mode": {
    "name": "ipython",
    "version": 3
   },
   "file_extension": ".py",
   "mimetype": "text/x-python",
   "name": "python",
   "nbconvert_exporter": "python",
   "pygments_lexer": "ipython3",
   "version": "3.9.0"
  }
 },
 "nbformat": 4,
 "nbformat_minor": 4
}
